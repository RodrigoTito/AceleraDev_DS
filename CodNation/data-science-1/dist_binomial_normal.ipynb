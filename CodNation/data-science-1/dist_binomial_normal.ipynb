{
 "cells": [
  {
   "cell_type": "markdown",
   "metadata": {},
   "source": [
    "# Distribuições de Probabilidade\n",
    " \n",
    "Dividiremos em duas partes:\n",
    "    \n",
    "1. A primeira parte contará com um *data set* artificial com dados de uma amostra normal e\n",
    "    uma binomial. Faremos alguns questionamenos. \n",
    "2. A segunda parte será sobre a análise da distribuição de uma variável do _data set_ [Pulsar Star](https://archive.ics.uci.edu/ml/datasets/HTRU2), também faremos questionamentos.\n"
   ]
  },
  {
   "cell_type": "markdown",
   "metadata": {},
   "source": [
    "## _Setup_ geral"
   ]
  },
  {
   "cell_type": "code",
   "execution_count": 1,
   "metadata": {},
   "outputs": [],
   "source": [
    "import pandas as pd\n",
    "import matplotlib.pyplot as plt\n",
    "import numpy as np\n",
    "import scipy.stats as sct\n",
    "import seaborn as sns\n",
    "from statsmodels.distributions.empirical_distribution import ECDF"
   ]
  },
  {
   "cell_type": "code",
   "execution_count": 2,
   "metadata": {},
   "outputs": [],
   "source": [
    "%matplotlib inline\n",
    "\n",
    "from IPython.core.pylabtools import figsize\n",
    "\n",
    "\n",
    "figsize(12, 8)\n",
    "\n",
    "sns.set()"
   ]
  },
  {
   "cell_type": "code",
   "execution_count": 3,
   "metadata": {},
   "outputs": [
    {
     "data": {
      "text/plain": [
       "2.3730204099921566"
      ]
     },
     "execution_count": 3,
     "metadata": {},
     "output_type": "execute_result"
    }
   ],
   "source": [
    "sct.norm.ppf(0.25, loc=2.4, scale=0.04)"
   ]
  },
  {
   "cell_type": "markdown",
   "metadata": {},
   "source": [
    "## Parte 1"
   ]
  },
  {
   "cell_type": "markdown",
   "metadata": {},
   "source": [
    "### _Setup_ da parte 1"
   ]
  },
  {
   "cell_type": "code",
   "execution_count": 3,
   "metadata": {},
   "outputs": [],
   "source": [
    "np.random.seed(42)\n",
    "    \n",
    "dataframe = pd.DataFrame({\"normal\": sct.norm.rvs(20, 4, size=10000),\n",
    "                     \"binomial\": sct.binom.rvs(100, 0.2, size=10000)})"
   ]
  },
  {
   "cell_type": "markdown",
   "metadata": {},
   "source": [
    "## Iniciando a análise a partir da parte 1 "
   ]
  },
  {
   "cell_type": "code",
   "execution_count": 4,
   "metadata": {},
   "outputs": [
    {
     "data": {
      "text/html": [
       "<div>\n",
       "<style scoped>\n",
       "    .dataframe tbody tr th:only-of-type {\n",
       "        vertical-align: middle;\n",
       "    }\n",
       "\n",
       "    .dataframe tbody tr th {\n",
       "        vertical-align: top;\n",
       "    }\n",
       "\n",
       "    .dataframe thead th {\n",
       "        text-align: right;\n",
       "    }\n",
       "</style>\n",
       "<table border=\"1\" class=\"dataframe\">\n",
       "  <thead>\n",
       "    <tr style=\"text-align: right;\">\n",
       "      <th></th>\n",
       "      <th>normal</th>\n",
       "      <th>binomial</th>\n",
       "    </tr>\n",
       "  </thead>\n",
       "  <tbody>\n",
       "    <tr>\n",
       "      <th>0</th>\n",
       "      <td>21.986857</td>\n",
       "      <td>18</td>\n",
       "    </tr>\n",
       "    <tr>\n",
       "      <th>1</th>\n",
       "      <td>19.446943</td>\n",
       "      <td>15</td>\n",
       "    </tr>\n",
       "    <tr>\n",
       "      <th>2</th>\n",
       "      <td>22.590754</td>\n",
       "      <td>14</td>\n",
       "    </tr>\n",
       "    <tr>\n",
       "      <th>3</th>\n",
       "      <td>26.092119</td>\n",
       "      <td>15</td>\n",
       "    </tr>\n",
       "    <tr>\n",
       "      <th>4</th>\n",
       "      <td>19.063387</td>\n",
       "      <td>21</td>\n",
       "    </tr>\n",
       "  </tbody>\n",
       "</table>\n",
       "</div>"
      ],
      "text/plain": [
       "      normal  binomial\n",
       "0  21.986857        18\n",
       "1  19.446943        15\n",
       "2  22.590754        14\n",
       "3  26.092119        15\n",
       "4  19.063387        21"
      ]
     },
     "execution_count": 4,
     "metadata": {},
     "output_type": "execute_result"
    }
   ],
   "source": [
    "dataframe.head(5)"
   ]
  },
  {
   "cell_type": "code",
   "execution_count": 5,
   "metadata": {},
   "outputs": [
    {
     "data": {
      "text/html": [
       "<div>\n",
       "<style scoped>\n",
       "    .dataframe tbody tr th:only-of-type {\n",
       "        vertical-align: middle;\n",
       "    }\n",
       "\n",
       "    .dataframe tbody tr th {\n",
       "        vertical-align: top;\n",
       "    }\n",
       "\n",
       "    .dataframe thead th {\n",
       "        text-align: right;\n",
       "    }\n",
       "</style>\n",
       "<table border=\"1\" class=\"dataframe\">\n",
       "  <thead>\n",
       "    <tr style=\"text-align: right;\">\n",
       "      <th></th>\n",
       "      <th>normal</th>\n",
       "      <th>binomial</th>\n",
       "    </tr>\n",
       "  </thead>\n",
       "  <tbody>\n",
       "    <tr>\n",
       "      <th>count</th>\n",
       "      <td>10000.000000</td>\n",
       "      <td>10000.000000</td>\n",
       "    </tr>\n",
       "    <tr>\n",
       "      <th>mean</th>\n",
       "      <td>19.991456</td>\n",
       "      <td>20.097000</td>\n",
       "    </tr>\n",
       "    <tr>\n",
       "      <th>std</th>\n",
       "      <td>4.013850</td>\n",
       "      <td>4.041191</td>\n",
       "    </tr>\n",
       "    <tr>\n",
       "      <th>min</th>\n",
       "      <td>4.310399</td>\n",
       "      <td>6.000000</td>\n",
       "    </tr>\n",
       "    <tr>\n",
       "      <th>25%</th>\n",
       "      <td>17.309638</td>\n",
       "      <td>17.000000</td>\n",
       "    </tr>\n",
       "    <tr>\n",
       "      <th>50%</th>\n",
       "      <td>19.989620</td>\n",
       "      <td>20.000000</td>\n",
       "    </tr>\n",
       "    <tr>\n",
       "      <th>75%</th>\n",
       "      <td>22.684324</td>\n",
       "      <td>23.000000</td>\n",
       "    </tr>\n",
       "    <tr>\n",
       "      <th>max</th>\n",
       "      <td>35.704951</td>\n",
       "      <td>36.000000</td>\n",
       "    </tr>\n",
       "  </tbody>\n",
       "</table>\n",
       "</div>"
      ],
      "text/plain": [
       "             normal      binomial\n",
       "count  10000.000000  10000.000000\n",
       "mean      19.991456     20.097000\n",
       "std        4.013850      4.041191\n",
       "min        4.310399      6.000000\n",
       "25%       17.309638     17.000000\n",
       "50%       19.989620     20.000000\n",
       "75%       22.684324     23.000000\n",
       "max       35.704951     36.000000"
      ]
     },
     "execution_count": 5,
     "metadata": {},
     "output_type": "execute_result"
    }
   ],
   "source": [
    "dataframe.describe()"
   ]
  },
  {
   "cell_type": "code",
   "execution_count": 6,
   "metadata": {},
   "outputs": [
    {
     "data": {
      "text/plain": [
       "<seaborn.axisgrid.PairGrid at 0x19b3270cb70>"
      ]
     },
     "execution_count": 6,
     "metadata": {},
     "output_type": "execute_result"
    },
    {
     "data": {
      "image/png": "[encoded data removed]",
      "text/plain": [
       "<Figure size 360x360 with 6 Axes>"
      ]
     },
     "metadata": {},
     "output_type": "display_data"
    }
   ],
   "source": [
    "sns.pairplot(dataframe)"
   ]
  },
  {
   "cell_type": "markdown",
   "metadata": {},
   "source": [
    "## Diferença entre os quartis (Q1, Q2 e Q3) das variáveis:  `normal` e `binomial` do `dataframe`\n"
   ]
  },
  {
   "cell_type": "code",
   "execution_count": 7,
   "metadata": {},
   "outputs": [
    {
     "name": "stdout",
     "output_type": "stream",
     "text": [
      "q1_norm-q1_binom = 0.31\n",
      "q2_norm-q2_binom = -0.01\n",
      "q3_norm-q3_binom = -0.316\n"
     ]
    }
   ],
   "source": [
    "q1_norm = dataframe.describe().loc['25%','normal']\n",
    "q2_norm = dataframe.describe().loc['50%','normal']\n",
    "q3_norm = dataframe.describe().loc['75%','normal']\n",
    "\n",
    "q1_binom = dataframe.describe().loc['25%','binomial']\n",
    "q2_binom = dataframe.describe().loc['50%','binomial']\n",
    "q3_binom = dataframe.describe().loc['75%','binomial']\n",
    "\n",
    "print('q1_norm-q1_binom =',(q1_norm-q1_binom).round(3))\n",
    "\n",
    "print('q2_norm-q2_binom =',(q2_norm-q2_binom).round(3))\n",
    "\n",
    "print('q3_norm-q3_binom =',(q3_norm-q3_binom).round(3))\n",
    "   "
   ]
  },
  {
   "cell_type": "markdown",
   "metadata": {},
   "source": [
    "Como estamos considerando distribuições aparentemente tão diferentes (discreta e contínua); note que temos variações pequenas.  Contudo, isso se deve do fato de termos uma amostra com tamanho grande, pois, usando **Teorema do limite central** temos que quanto maior  o tamanho da amostra a distribuição de probabilidade binomial se aproxima da normal, passando a mesma variável do tipo discreto a ter o mesmo tratamento que uma variável do tipo contínuo, com $\\mu = n.p$ e $\\sigma = \\sqrt{n.p.q}$\n",
    "\n",
    "> $$ Z = \\frac{X-np}{\\sqrt{n.p.q}}$$\n"
   ]
  },
  {
   "cell_type": "markdown",
   "metadata": {},
   "source": [
    "* Agora, considerando o intervalo $[\\bar{x} - s, \\bar{x} + s]$, onde $\\bar{x}$ é a média amostral e $s$ é o desvio padrão. \n",
    "\n",
    "Vamos calcular a probabilidade nesse intervalo, usando a função de distribuição acumulada empírica (CDF empírica) da variável `normal`"
   ]
  },
  {
   "cell_type": "code",
   "execution_count": 11,
   "metadata": {},
   "outputs": [
    {
     "name": "stdout",
     "output_type": "stream",
     "text": [
      "[-s+x,x+s]= [0.1571 0.8409]\n",
      "P(s<= X <=s) = 0.684\n"
     ]
    }
   ],
   "source": [
    "x_s_inf = dataframe['normal'].mean() - dataframe['normal'].std()\n",
    "x_s_sup = dataframe['normal'].mean() + dataframe['normal'].std()\n",
    "ecdf    = ECDF(dataframe['normal'])\n",
    "array   = ecdf([x_s_inf,x_s_sup]) \n",
    "print('[-s+x,x+s]=',array)\n",
    "print('P(s<= X <=s) =',(array[1]-array[0]).round(3))\n",
    "  "
   ]
  },
  {
   "cell_type": "markdown",
   "metadata": {},
   "source": [
    "* O intervalo $[\\bar{x} - 2s, \\bar{x} + 2s]$ "
   ]
  },
  {
   "cell_type": "code",
   "execution_count": 12,
   "metadata": {},
   "outputs": [
    {
     "name": "stdout",
     "output_type": "stream",
     "text": [
      "[-s+x,x+s]= [0.0227 0.9765]\n",
      "P(s<= X <=s) = 0.954\n"
     ]
    }
   ],
   "source": [
    "x_s_inf = dataframe['normal'].mean() - 2*dataframe['normal'].std()\n",
    "x_s_sup = dataframe['normal'].mean() + 2*dataframe['normal'].std()\n",
    "ecdf    = ECDF(dataframe['normal'])\n",
    "array   = ecdf([x_s_inf,x_s_sup]) \n",
    "print('[-s+x,x+s]=',array)\n",
    "print('P(s<= X <=s) =',(array[1]-array[0]).round(3))"
   ]
  },
  {
   "cell_type": "markdown",
   "metadata": {},
   "source": [
    "* O intervalo $[\\bar{x} - 3s, \\bar{x} + 3s]$."
   ]
  },
  {
   "cell_type": "code",
   "execution_count": 13,
   "metadata": {},
   "outputs": [
    {
     "name": "stdout",
     "output_type": "stream",
     "text": [
      "[-s+x,x+s]= [0.0012 0.9985]\n",
      "P(s<= X <=s) = 0.997\n"
     ]
    }
   ],
   "source": [
    "x_s_inf = dataframe['normal'].mean() -3*dataframe['normal'].std()\n",
    "x_s_sup = dataframe['normal'].mean() +3*dataframe['normal'].std()\n",
    "ecdf    = ECDF(dataframe['normal'])\n",
    "array   = ecdf([x_s_inf,x_s_sup]) \n",
    "print('[-s+x,x+s]=',array)\n",
    "print('P(s<= X <=s) =',(array[1]-array[0]).round(3))"
   ]
  },
  {
   "cell_type": "markdown",
   "metadata": {},
   "source": [
    "Notemos que esses valores se aproximam dos esperados teórico."
   ]
  },
  {
   "cell_type": "markdown",
   "metadata": {},
   "source": [
    "####  Calculando a diferença entre as médias e as variâncias das variáveis `binomial` e `normal`.."
   ]
  },
  {
   "cell_type": "code",
   "execution_count": 34,
   "metadata": {},
   "outputs": [
    {
     "name": "stdout",
     "output_type": "stream",
     "text": [
      "m_binom-m_norm = 0.106\n",
      "v_binom-v_norm = 0.22\n"
     ]
    }
   ],
   "source": [
    "m_binom = dataframe.describe().loc['mean','binomial'] \n",
    "v_binom = dataframe['binomial'].var()          \n",
    "m_norm  = dataframe.describe().loc['mean','normal'] \n",
    "v_norm  = dataframe['normal'].var() \n",
    "print('m_binom-m_norm =',round((m_binom-m_norm),3))\n",
    "print('v_binom-v_norm =',round((v_binom-v_norm),3))\n",
    "    "
   ]
  },
  {
   "cell_type": "markdown",
   "metadata": {},
   "source": [
    "Notemos que se aumentarmos $n$ (atualmente 100) a distribuição da variável `binomial` aproxima-se da normal (**Teorema do limite central**). Com isso teremos a diferença entre as médias e as variâncias menores. "
   ]
  },
  {
   "cell_type": "markdown",
   "metadata": {},
   "source": [
    "## Parte 2"
   ]
  },
  {
   "cell_type": "markdown",
   "metadata": {},
   "source": [
    "### _Setup_ da parte 2"
   ]
  },
  {
   "cell_type": "code",
   "execution_count": 35,
   "metadata": {},
   "outputs": [],
   "source": [
    "stars = pd.read_csv(\"pulsar_stars.csv\")\n",
    "\n",
    "stars.rename({old_name: new_name\n",
    "              for (old_name, new_name)\n",
    "              in zip(stars.columns,\n",
    "                     [\"mean_profile\", \"sd_profile\", \"kurt_profile\", \"skew_profile\", \"mean_curve\", \"sd_curve\", \"kurt_curve\", \"skew_curve\", \"target\"])\n",
    "             },\n",
    "             axis=1, inplace=True)\n",
    "\n",
    "stars.loc[:, \"target\"] = stars.target.astype(bool)"
   ]
  },
  {
   "cell_type": "markdown",
   "metadata": {},
   "source": [
    "### Iniciando a análise da parte 2 "
   ]
  },
  {
   "cell_type": "code",
   "execution_count": 36,
   "metadata": {},
   "outputs": [
    {
     "data": {
      "text/html": [
       "<div>\n",
       "<style scoped>\n",
       "    .dataframe tbody tr th:only-of-type {\n",
       "        vertical-align: middle;\n",
       "    }\n",
       "\n",
       "    .dataframe tbody tr th {\n",
       "        vertical-align: top;\n",
       "    }\n",
       "\n",
       "    .dataframe thead th {\n",
       "        text-align: right;\n",
       "    }\n",
       "</style>\n",
       "<table border=\"1\" class=\"dataframe\">\n",
       "  <thead>\n",
       "    <tr style=\"text-align: right;\">\n",
       "      <th></th>\n",
       "      <th>mean_profile</th>\n",
       "      <th>sd_profile</th>\n",
       "      <th>kurt_profile</th>\n",
       "      <th>skew_profile</th>\n",
       "      <th>mean_curve</th>\n",
       "      <th>sd_curve</th>\n",
       "      <th>kurt_curve</th>\n",
       "      <th>skew_curve</th>\n",
       "      <th>target</th>\n",
       "    </tr>\n",
       "  </thead>\n",
       "  <tbody>\n",
       "    <tr>\n",
       "      <th>0</th>\n",
       "      <td>102.507812</td>\n",
       "      <td>58.882430</td>\n",
       "      <td>0.465318</td>\n",
       "      <td>-0.515088</td>\n",
       "      <td>1.677258</td>\n",
       "      <td>14.860146</td>\n",
       "      <td>10.576487</td>\n",
       "      <td>127.393580</td>\n",
       "      <td>False</td>\n",
       "    </tr>\n",
       "    <tr>\n",
       "      <th>1</th>\n",
       "      <td>103.015625</td>\n",
       "      <td>39.341649</td>\n",
       "      <td>0.323328</td>\n",
       "      <td>1.051164</td>\n",
       "      <td>3.121237</td>\n",
       "      <td>21.744669</td>\n",
       "      <td>7.735822</td>\n",
       "      <td>63.171909</td>\n",
       "      <td>False</td>\n",
       "    </tr>\n",
       "    <tr>\n",
       "      <th>2</th>\n",
       "      <td>136.750000</td>\n",
       "      <td>57.178449</td>\n",
       "      <td>-0.068415</td>\n",
       "      <td>-0.636238</td>\n",
       "      <td>3.642977</td>\n",
       "      <td>20.959280</td>\n",
       "      <td>6.896499</td>\n",
       "      <td>53.593661</td>\n",
       "      <td>False</td>\n",
       "    </tr>\n",
       "    <tr>\n",
       "      <th>3</th>\n",
       "      <td>88.726562</td>\n",
       "      <td>40.672225</td>\n",
       "      <td>0.600866</td>\n",
       "      <td>1.123492</td>\n",
       "      <td>1.178930</td>\n",
       "      <td>11.468720</td>\n",
       "      <td>14.269573</td>\n",
       "      <td>252.567306</td>\n",
       "      <td>False</td>\n",
       "    </tr>\n",
       "    <tr>\n",
       "      <th>4</th>\n",
       "      <td>93.570312</td>\n",
       "      <td>46.698114</td>\n",
       "      <td>0.531905</td>\n",
       "      <td>0.416721</td>\n",
       "      <td>1.636288</td>\n",
       "      <td>14.545074</td>\n",
       "      <td>10.621748</td>\n",
       "      <td>131.394004</td>\n",
       "      <td>False</td>\n",
       "    </tr>\n",
       "  </tbody>\n",
       "</table>\n",
       "</div>"
      ],
      "text/plain": [
       "   mean_profile  sd_profile  kurt_profile  skew_profile  mean_curve  \\\n",
       "0    102.507812   58.882430      0.465318     -0.515088    1.677258   \n",
       "1    103.015625   39.341649      0.323328      1.051164    3.121237   \n",
       "2    136.750000   57.178449     -0.068415     -0.636238    3.642977   \n",
       "3     88.726562   40.672225      0.600866      1.123492    1.178930   \n",
       "4     93.570312   46.698114      0.531905      0.416721    1.636288   \n",
       "\n",
       "    sd_curve  kurt_curve  skew_curve  target  \n",
       "0  14.860146   10.576487  127.393580   False  \n",
       "1  21.744669    7.735822   63.171909   False  \n",
       "2  20.959280    6.896499   53.593661   False  \n",
       "3  11.468720   14.269573  252.567306   False  \n",
       "4  14.545074   10.621748  131.394004   False  "
      ]
     },
     "execution_count": 36,
     "metadata": {},
     "output_type": "execute_result"
    }
   ],
   "source": [
    "stars.head(5)"
   ]
  },
  {
   "cell_type": "markdown",
   "metadata": {},
   "source": [
    "### Resumo para cada variável do dataset "
   ]
  },
  {
   "cell_type": "code",
   "execution_count": 38,
   "metadata": {},
   "outputs": [
    {
     "data": {
      "text/html": [
       "<div>\n",
       "<style scoped>\n",
       "    .dataframe tbody tr th:only-of-type {\n",
       "        vertical-align: middle;\n",
       "    }\n",
       "\n",
       "    .dataframe tbody tr th {\n",
       "        vertical-align: top;\n",
       "    }\n",
       "\n",
       "    .dataframe thead th {\n",
       "        text-align: right;\n",
       "    }\n",
       "</style>\n",
       "<table border=\"1\" class=\"dataframe\">\n",
       "  <thead>\n",
       "    <tr style=\"text-align: right;\">\n",
       "      <th></th>\n",
       "      <th>Type</th>\n",
       "      <th>Missing</th>\n",
       "      <th>Size</th>\n",
       "      <th>Unique</th>\n",
       "      <th>Missing_%</th>\n",
       "    </tr>\n",
       "  </thead>\n",
       "  <tbody>\n",
       "    <tr>\n",
       "      <th>mean_profile</th>\n",
       "      <td>float64</td>\n",
       "      <td>0</td>\n",
       "      <td>17897</td>\n",
       "      <td>8625</td>\n",
       "      <td>0.0</td>\n",
       "    </tr>\n",
       "    <tr>\n",
       "      <th>sd_profile</th>\n",
       "      <td>float64</td>\n",
       "      <td>0</td>\n",
       "      <td>17897</td>\n",
       "      <td>17861</td>\n",
       "      <td>0.0</td>\n",
       "    </tr>\n",
       "    <tr>\n",
       "      <th>kurt_profile</th>\n",
       "      <td>float64</td>\n",
       "      <td>0</td>\n",
       "      <td>17897</td>\n",
       "      <td>17896</td>\n",
       "      <td>0.0</td>\n",
       "    </tr>\n",
       "    <tr>\n",
       "      <th>skew_profile</th>\n",
       "      <td>float64</td>\n",
       "      <td>0</td>\n",
       "      <td>17897</td>\n",
       "      <td>17897</td>\n",
       "      <td>0.0</td>\n",
       "    </tr>\n",
       "    <tr>\n",
       "      <th>mean_curve</th>\n",
       "      <td>float64</td>\n",
       "      <td>0</td>\n",
       "      <td>17897</td>\n",
       "      <td>9000</td>\n",
       "      <td>0.0</td>\n",
       "    </tr>\n",
       "    <tr>\n",
       "      <th>sd_curve</th>\n",
       "      <td>float64</td>\n",
       "      <td>0</td>\n",
       "      <td>17897</td>\n",
       "      <td>17893</td>\n",
       "      <td>0.0</td>\n",
       "    </tr>\n",
       "    <tr>\n",
       "      <th>kurt_curve</th>\n",
       "      <td>float64</td>\n",
       "      <td>0</td>\n",
       "      <td>17897</td>\n",
       "      <td>17894</td>\n",
       "      <td>0.0</td>\n",
       "    </tr>\n",
       "    <tr>\n",
       "      <th>skew_curve</th>\n",
       "      <td>float64</td>\n",
       "      <td>0</td>\n",
       "      <td>17897</td>\n",
       "      <td>17894</td>\n",
       "      <td>0.0</td>\n",
       "    </tr>\n",
       "    <tr>\n",
       "      <th>target</th>\n",
       "      <td>bool</td>\n",
       "      <td>0</td>\n",
       "      <td>17897</td>\n",
       "      <td>2</td>\n",
       "      <td>0.0</td>\n",
       "    </tr>\n",
       "  </tbody>\n",
       "</table>\n",
       "</div>"
      ],
      "text/plain": [
       "                 Type  Missing   Size  Unique  Missing_%\n",
       "mean_profile  float64        0  17897    8625        0.0\n",
       "sd_profile    float64        0  17897   17861        0.0\n",
       "kurt_profile  float64        0  17897   17896        0.0\n",
       "skew_profile  float64        0  17897   17897        0.0\n",
       "mean_curve    float64        0  17897    9000        0.0\n",
       "sd_curve      float64        0  17897   17893        0.0\n",
       "kurt_curve    float64        0  17897   17894        0.0\n",
       "skew_curve    float64        0  17897   17894        0.0\n",
       "target           bool        0  17897       2        0.0"
      ]
     },
     "execution_count": 38,
     "metadata": {},
     "output_type": "execute_result"
    }
   ],
   "source": [
    "df_aux = pd.DataFrame({'Type': stars.dtypes,\n",
    "                      'Missing': stars.isna().sum(),\n",
    "                      'Size': stars.shape[0],\n",
    "                       'Unique': stars.nunique()\n",
    "                     })\n",
    "df_aux['Missing_%']= df_aux.Missing/df_aux.Size * 100\n",
    "df_aux.sort_values(by='Missing_%', ascending=False)"
   ]
  },
  {
   "cell_type": "markdown",
   "metadata": {},
   "source": [
    "Consideramos a variável `mean_profile` de `stars`:\n",
    "\n",
    "1. Filtraremos apenas os valores de `mean_profile` onde `target == 0` (ou seja, onde a estrela não é um pulsar).\n",
    "2. Padronizando a variável `mean_profile` filtrada anteriormente para ter média 0 e variância 1.\n",
    "Chamaremos a variável resultante de `false_pulsar_mean_profile_standardized`.\n",
    "\n",
    "3. Encontraremos os quantis teóricos para uma distribuição normal de média 0 e variância 1 para 0.80, 0.90 e 0.95 através da função `norm.ppf()` disponível em `scipy.stats`.\n",
    "\n",
    "4. Calcularemos as probabilidades associadas a esses quantis utilizando a CDF empírica da variável `false_pulsar_mean_profile_standardized`"
   ]
  },
  {
   "cell_type": "code",
   "execution_count": 40,
   "metadata": {},
   "outputs": [
    {
     "name": "stdout",
     "output_type": "stream",
     "text": [
      "(cdf_80, cdf_90,cdf_95) = (0.806, 0.911, 0.959)\n"
     ]
    }
   ],
   "source": [
    "# 1. Filtrando...\n",
    "df = stars[stars['target']==0]['mean_profile']\n",
    "# 2. Padronizando...\n",
    "false_pulsar_mean_profile_standardized = (df-df.mean())/df.std()\n",
    "#3. Encontraremos... Usando norm.ppf\n",
    "quantis_80 = sct.norm.ppf(0.80, loc=false_pulsar_mean_profile_standardized.mean(), scale=false_pulsar_mean_profile_standardized.std())\n",
    "quantis_90 = sct.norm.ppf(0.90, loc=false_pulsar_mean_profile_standardized.mean(), scale=false_pulsar_mean_profile_standardized.std())\n",
    "quantis_95 = sct.norm.ppf(0.95, loc=false_pulsar_mean_profile_standardized.mean(), scale=false_pulsar_mean_profile_standardized.std())\n",
    "#Usando ECDF \n",
    "ecdf   = ECDF(false_pulsar_mean_profile_standardized)\n",
    "array  = ecdf([quantis_80,quantis_90,quantis_95])\n",
    "cdf_80 = array[0] \n",
    "cdf_90 = array[1] \n",
    "cdf_95 = array[2]\n",
    "print('(cdf_80, cdf_90,cdf_95) =',(cdf_80.round(3),cdf_90.round(3),cdf_95.round(3)))\n"
   ]
  },
  {
   "cell_type": "markdown",
   "metadata": {},
   "source": [
    "* Podemos notar que os volores encontrados fazem sentido, pois estão próximos dos esperados.\n",
    "* Com isso podemos dizer que a variável `false_pulsar_mean_profile_standardized` com certo nível de significância é uma a distribuição normal.  "
   ]
  },
  {
   "cell_type": "markdown",
   "metadata": {},
   "source": [
    "#### A diferença entre os quantis Q1, Q2 e Q3 de `false_pulsar_mean_profile_standardized` e os mesmos quantis teóricos de uma distribuição normal de média 0 e variância 1"
   ]
  },
  {
   "cell_type": "code",
   "execution_count": 42,
   "metadata": {},
   "outputs": [
    {
     "name": "stdout",
     "output_type": "stream",
     "text": [
      "(Q1-Q1_normal,Q2-Q2_normal,Q3-Q3_normal)= (0.027, 0.04, -0.004)\n"
     ]
    }
   ],
   "source": [
    "#Quantis\n",
    "Q1=false_pulsar_mean_profile_standardized.describe().loc['25%'] \n",
    "Q2=false_pulsar_mean_profile_standardized.describe().loc['50%']\n",
    "Q3=false_pulsar_mean_profile_standardized.describe().loc['75%']\n",
    "Q1_normal=sct.norm.ppf(0.25,loc=0, scale=1)\n",
    "Q2_normal=sct.norm.ppf(0.50,loc=0, scale=1)\n",
    "Q3_normal=sct.norm.ppf(0.75,loc=0, scale=1)\n",
    "print('(Q1-Q1_normal,Q2-Q2_normal,Q3-Q3_normal)=',((Q1-Q1_normal).round(3),(Q2-Q2_normal).round(3),(Q3-Q3_normal).round(3)))\n"
   ]
  },
  {
   "cell_type": "markdown",
   "metadata": {},
   "source": [
    "* Note que os valores encontrados fazem sentido.\n",
    "* Com isso podemos dizer que a distribuição da variável `false_pulsar_mean_profile_standardized` pode ser normal. \n",
    "* Também podemos pensar em teste de hipótese sobre normalidade, uma vez que existem alguns testes que utilizam essa mesma abordagem com certo nível de significância"
   ]
  },
  {
   "cell_type": "code",
   "execution_count": null,
   "metadata": {},
   "outputs": [],
   "source": []
  }
 ],
 "metadata": {
  "kernelspec": {
   "display_name": "Python 3",
   "language": "python",
   "name": "python3"
  },
  "language_info": {
   "codemirror_mode": {
    "name": "ipython",
    "version": 3
   },
   "file_extension": ".py",
   "mimetype": "text/x-python",
   "name": "python",
   "nbconvert_exporter": "python",
   "pygments_lexer": "ipython3",
   "version": "3.7.1"
  }
 },
 "nbformat": 4,
 "nbformat_minor": 2
}
